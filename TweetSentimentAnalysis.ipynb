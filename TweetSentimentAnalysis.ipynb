{
 "cells": [
  {
   "cell_type": "code",
   "execution_count": 2,
   "metadata": {},
   "outputs": [],
   "source": [
    "import pandas as pd\n",
    "import os"
   ]
  },
  {
   "cell_type": "code",
   "execution_count": 4,
   "metadata": {},
   "outputs": [],
   "source": [
    "# Get the data into a pandas dataframe\n",
    "train_file_path = \"/Users/yigitatay/Desktop/BIGDATA_PROJECT/data/train.csv\"\n",
    "df = pd.read_csv(train_file_path)"
   ]
  },
  {
   "cell_type": "code",
   "execution_count": 34,
   "metadata": {},
   "outputs": [],
   "source": [
    "# separate labels and data\n",
    "texts = df[\"text\"]\n",
    "selected_texts = df[\"selected_text\"]\n",
    "sentiments = df[\"sentiment\"]\n",
    "# a list to hold text, sentiment dictionaries\n",
    "train_list = []\n",
    "# a list to hold the labels\n",
    "label_list = []\n",
    "\n",
    "for text, data, label in zip(texts, sentiments, selected_texts):\n",
    "    dict_to_add = dict()\n",
    "    dict_to_add[text] = data\n",
    "    train_list.append(dict_to_add)\n",
    "    label_list.append(label)"
   ]
  },
  {
   "cell_type": "code",
   "execution_count": 51,
   "metadata": {},
   "outputs": [],
   "source": [
    "# get strings with all text, positive, neutral and negative test\n",
    "# for non-deep-learning analysis\n",
    "all_text = \"\"\n",
    "all_selected_text = \"\"\n",
    "positive_text = \"\"\n",
    "positive_selected_text = \"\"\n",
    "negative_text = \"\"\n",
    "negative_selected_text = \"\"\n",
    "neutral_text = \"\"\n",
    "neutral_selected_text = \"\"\n",
    "for item, label in zip(train_list, label_list):\n",
    "    all_selected_text += (\" \" + str(label))\n",
    "    for key in item:\n",
    "        all_text += (\" \" + str(key))\n",
    "        if(item[key] == \"positive\"):\n",
    "            positive_text += (\" \" + str(key))\n",
    "            positive_selected_text += (\" \" + str(label))\n",
    "        elif(item[key] == \"negative\"):\n",
    "            negative_text += (\" \" + str(key))\n",
    "            negative_selected_text += (\" \" + str(label))\n",
    "        else:\n",
    "            neutral_text += (\" \" + str(key))\n",
    "            neutral_selected_text += (\" \" + str(label))\n"
   ]
  },
  {
   "cell_type": "code",
   "execution_count": null,
   "metadata": {},
   "outputs": [],
   "source": []
  }
 ],
 "metadata": {
  "kernelspec": {
   "display_name": "Python 3",
   "language": "python",
   "name": "python3"
  },
  "language_info": {
   "codemirror_mode": {
    "name": "ipython",
    "version": 3
   },
   "file_extension": ".py",
   "mimetype": "text/x-python",
   "name": "python",
   "nbconvert_exporter": "python",
   "pygments_lexer": "ipython3",
   "version": "3.7.4"
  }
 },
 "nbformat": 4,
 "nbformat_minor": 2
}
