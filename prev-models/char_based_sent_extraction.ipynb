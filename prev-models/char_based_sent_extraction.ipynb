{
 "cells": [
  {
   "cell_type": "code",
   "execution_count": 20,
   "metadata": {},
   "outputs": [],
   "source": [
    "import pandas as pd\n",
    "import os\n",
    "import numpy as np\n",
    "from tensorflow.keras.callbacks import LambdaCallback\n",
    "from tensorflow.keras.callbacks import TensorBoard\n",
    "from tensorflow.keras.models import Sequential\n",
    "from tensorflow.keras.layers import Dense, LSTM, Flatten, Bidirectional, \\\n",
    "                            Dropout, Embedding, Conv2D, MaxPool2D, Reshape, \\\n",
    "                            TimeDistributed, Activation, BatchNormalization, Input\n",
    "from tensorflow.keras.optimizers import RMSprop, Adam\n",
    "\n",
    "# TO RUN ON GPU, UNCOMMENT\n",
    "# import tensorflow as tf\n",
    "# config = tf.compat.v1.ConfigProto(device_count = {'GPU':2})\n",
    "# sess = tf.compat.v1.Session(config=config)\n",
    "# tf.compat.v1.keras.backend.set_session(sess)"
   ]
  },
  {
   "cell_type": "code",
   "execution_count": 2,
   "metadata": {},
   "outputs": [],
   "source": [
    "# Get the data into a pandas dataframe\n",
    "train_file_path = \"/Users/yigitatay/Desktop/SentNLP/data/train.csv\"\n",
    "df = pd.read_csv(train_file_path)"
   ]
  },
  {
   "cell_type": "code",
   "execution_count": 3,
   "metadata": {},
   "outputs": [],
   "source": [
    "# separate labels and data\n",
    "texts = df[\"text\"]\n",
    "selected_texts = df[\"selected_text\"]\n",
    "sentiments = df[\"sentiment\"]\n",
    "# a list to hold text, sentiment dictionaries\n",
    "train_list = []\n",
    "# a list to hold the labels\n",
    "label_list = []\n",
    "\n",
    "for text, data, label in zip(texts, sentiments, selected_texts):\n",
    "    dict_to_add = dict()\n",
    "    dict_to_add[text] = data\n",
    "    train_list.append(dict_to_add)\n",
    "    label_list.append(label)"
   ]
  },
  {
   "cell_type": "code",
   "execution_count": 4,
   "metadata": {},
   "outputs": [],
   "source": [
    "# get strings with all text, positive, neutral and negative test\n",
    "# for non-deep-learning analysis\n",
    "all_text = \"\"\n",
    "all_selected_text = \"\"\n",
    "positive_text = \"\"\n",
    "positive_selected_text = \"\"\n",
    "negative_text = \"\"\n",
    "negative_selected_text = \"\"\n",
    "neutral_text = \"\"\n",
    "neutral_selected_text = \"\"\n",
    "for item, label in zip(train_list, label_list):\n",
    "    all_selected_text += (\" \" + str(label))\n",
    "    for key in item:\n",
    "        all_text += (\" \" + str(key))\n",
    "        if(item[key] == \"positive\"):\n",
    "            positive_text += (\" \" + str(key))\n",
    "            positive_selected_text += (\" \" + str(label))\n",
    "        elif(item[key] == \"negative\"):\n",
    "            negative_text += (\" \" + str(key))\n",
    "            negative_selected_text += (\" \" + str(label))\n",
    "        else:\n",
    "            neutral_text += (\" \" + str(key))\n",
    "            neutral_selected_text += (\" \" + str(label))\n"
   ]
  },
  {
   "cell_type": "code",
   "execution_count": 5,
   "metadata": {},
   "outputs": [],
   "source": [
    "chars = sorted(list(set(all_text)))\n",
    "char_indices = dict((c, i) for i, c in enumerate(chars))\n",
    "indices_char = dict((i, c) for i, c in enumerate(chars))"
   ]
  },
  {
   "cell_type": "code",
   "execution_count": 6,
   "metadata": {},
   "outputs": [],
   "source": [
    "# set maximum tweet size to seqlen characters (dataset seems to have max about 140 chars)\n",
    "# so we pad with spaces from the beginning for each tweet\n",
    "seqlen = 160\n",
    "modified_train_list = []\n",
    "i = 0\n",
    "for tweet in train_list:\n",
    "    for key in tweet:\n",
    "        val = tweet[key]\n",
    "        num_spaces = seqlen - len(str(key))\n",
    "        addition = \"\"\n",
    "        for i in range(num_spaces):\n",
    "            addition += \" \"\n",
    "        new_key = addition + str(key)\n",
    "        dict_add = {}\n",
    "        dict_add[new_key] = val\n",
    "        modified_train_list.append(dict_add)\n",
    "# modified_label_list = []\n",
    "# i = 0\n",
    "# for tweet in label_list:\n",
    "#     num_spaces = seqlen - len(str(tweet))\n",
    "#     addition = \"\"\n",
    "#     for i in range(num_spaces):\n",
    "#         addition += \" \"\n",
    "#     new_tweet = addition + str(tweet)\n",
    "#     modified_label_list.append(new_tweet)"
   ]
  },
  {
   "cell_type": "code",
   "execution_count": 7,
   "metadata": {},
   "outputs": [],
   "source": [
    "modified_label_list = []\n",
    "i = 0\n",
    "for selected, original in zip(label_list, modified_train_list):\n",
    "    selected = str(selected)\n",
    "    modified_label = []\n",
    "    original_str = \"\"\n",
    "    whitespace_count = 0\n",
    "    for key_original in original:\n",
    "        original_str = key_original\n",
    "    j = 0\n",
    "    selected_len = len(selected)\n",
    "    while original_str[j:(j+selected_len)] != selected:\n",
    "        whitespace_count += 1\n",
    "        j += 1\n",
    "    for k in range(whitespace_count):\n",
    "        modified_label.append(0)\n",
    "    for k in range(selected_len):\n",
    "        modified_label.append(1)\n",
    "    while len(modified_label) != 160:\n",
    "        modified_label.append(0)\n",
    "    modified_label_list.append(modified_label)    "
   ]
  },
  {
   "cell_type": "code",
   "execution_count": 8,
   "metadata": {},
   "outputs": [],
   "source": [
    "modified_label_list = np.asarray(modified_label_list)"
   ]
  },
  {
   "cell_type": "code",
   "execution_count": 15,
   "metadata": {},
   "outputs": [],
   "source": [
    "# we add one extra dimension to the end\n",
    "x = np.zeros((len(modified_train_list), seqlen, len(chars)+1), dtype=np.float32)\n",
    "#y = np.zeros((len(modified_train_list), seqlen, len(chars)+1), dtype=np.float32)\n",
    "for i, tweet in enumerate(modified_train_list):\n",
    "    for key in tweet:\n",
    "        for t, char in enumerate(key):\n",
    "            x[i, t, char_indices[char]] = 1\n",
    "            if tweet[key] == \"positive\":\n",
    "                x[i, t, len(chars)] = 2\n",
    "            elif tweet[key] == \"negative\":\n",
    "                x[i, t, len(chars)] = 1\n",
    "            else:\n",
    "                x[i, t, len(chars)] = 0\n",
    "# for i, tweet in enumerate(modified_label_list):\n",
    "#     for t, char in enumerate(tweet):\n",
    "#         y[i, t, char_indices[char]] = 1\n",
    "y = modified_label_list"
   ]
  },
  {
   "cell_type": "code",
   "execution_count": 17,
   "metadata": {},
   "outputs": [
    {
     "name": "stdout",
     "output_type": "stream",
     "text": [
      "(27481, 160)\n",
      "(27481, 160, 102, 1)\n"
     ]
    }
   ],
   "source": [
    "print(y.shape)\n",
    "x = np.reshape(x, [27481, 160, 102, 1])\n",
    "print(x.shape)"
   ]
  },
  {
   "cell_type": "code",
   "execution_count": 21,
   "metadata": {},
   "outputs": [
    {
     "name": "stdout",
     "output_type": "stream",
     "text": [
      "Model: \"sequential_1\"\n",
      "_________________________________________________________________\n",
      "Layer (type)                 Output Shape              Param #   \n",
      "=================================================================\n",
      "conv2d (Conv2D)              (None, 80, 51, 8)         80        \n",
      "_________________________________________________________________\n",
      "batch_normalization (BatchNo (None, 80, 51, 8)         32        \n",
      "_________________________________________________________________\n",
      "conv2d_1 (Conv2D)            (None, 40, 26, 16)        1168      \n",
      "_________________________________________________________________\n",
      "batch_normalization_1 (Batch (None, 40, 26, 16)        64        \n",
      "_________________________________________________________________\n",
      "flatten (Flatten)            (None, 16640)             0         \n",
      "_________________________________________________________________\n",
      "dense (Dense)                (None, 160)               2662560   \n",
      "=================================================================\n",
      "Total params: 2,663,904\n",
      "Trainable params: 2,663,856\n",
      "Non-trainable params: 48\n",
      "_________________________________________________________________\n",
      "(27481, 160)\n",
      "Train on 24732 samples, validate on 2749 samples\n",
      "Epoch 1/50\n",
      "14644/24732 [================>.............] - ETA: 2:56 - loss: 0.2198 - binary_crossentropy: 0.2198 - accuracy: 0.9100"
     ]
    },
    {
     "ename": "KeyboardInterrupt",
     "evalue": "",
     "output_type": "error",
     "traceback": [
      "\u001b[0;31m---------------------------------------------------------------------------\u001b[0m",
      "\u001b[0;31mKeyboardInterrupt\u001b[0m                         Traceback (most recent call last)",
      "\u001b[0;32m<ipython-input-21-75f24cdaf83d>\u001b[0m in \u001b[0;36m<module>\u001b[0;34m\u001b[0m\n\u001b[1;32m     41\u001b[0m           \u001b[0mbatch_size\u001b[0m\u001b[0;34m=\u001b[0m\u001b[0;36m1\u001b[0m\u001b[0;34m,\u001b[0m\u001b[0;34m\u001b[0m\u001b[0;34m\u001b[0m\u001b[0m\n\u001b[1;32m     42\u001b[0m           \u001b[0mepochs\u001b[0m\u001b[0;34m=\u001b[0m\u001b[0;36m50\u001b[0m\u001b[0;34m,\u001b[0m\u001b[0;34m\u001b[0m\u001b[0;34m\u001b[0m\u001b[0m\n\u001b[0;32m---> 43\u001b[0;31m           validation_split=0.1)\n\u001b[0m\u001b[1;32m     44\u001b[0m \u001b[0mmodel\u001b[0m\u001b[0;34m.\u001b[0m\u001b[0msave\u001b[0m\u001b[0;34m(\u001b[0m\u001b[0;34m\"sentiment_model_big_y_with_sigmoid_50_epochs.h5\"\u001b[0m\u001b[0;34m)\u001b[0m\u001b[0;34m\u001b[0m\u001b[0;34m\u001b[0m\u001b[0m\n",
      "\u001b[0;32m~/opt/anaconda3/lib/python3.7/site-packages/tensorflow_core/python/keras/engine/training.py\u001b[0m in \u001b[0;36mfit\u001b[0;34m(self, x, y, batch_size, epochs, verbose, callbacks, validation_split, validation_data, shuffle, class_weight, sample_weight, initial_epoch, steps_per_epoch, validation_steps, validation_freq, max_queue_size, workers, use_multiprocessing, **kwargs)\u001b[0m\n\u001b[1;32m    817\u001b[0m         \u001b[0mmax_queue_size\u001b[0m\u001b[0;34m=\u001b[0m\u001b[0mmax_queue_size\u001b[0m\u001b[0;34m,\u001b[0m\u001b[0;34m\u001b[0m\u001b[0;34m\u001b[0m\u001b[0m\n\u001b[1;32m    818\u001b[0m         \u001b[0mworkers\u001b[0m\u001b[0;34m=\u001b[0m\u001b[0mworkers\u001b[0m\u001b[0;34m,\u001b[0m\u001b[0;34m\u001b[0m\u001b[0;34m\u001b[0m\u001b[0m\n\u001b[0;32m--> 819\u001b[0;31m         use_multiprocessing=use_multiprocessing)\n\u001b[0m\u001b[1;32m    820\u001b[0m \u001b[0;34m\u001b[0m\u001b[0m\n\u001b[1;32m    821\u001b[0m   def evaluate(self,\n",
      "\u001b[0;32m~/opt/anaconda3/lib/python3.7/site-packages/tensorflow_core/python/keras/engine/training_v2.py\u001b[0m in \u001b[0;36mfit\u001b[0;34m(self, model, x, y, batch_size, epochs, verbose, callbacks, validation_split, validation_data, shuffle, class_weight, sample_weight, initial_epoch, steps_per_epoch, validation_steps, validation_freq, max_queue_size, workers, use_multiprocessing, **kwargs)\u001b[0m\n\u001b[1;32m    340\u001b[0m                 \u001b[0mmode\u001b[0m\u001b[0;34m=\u001b[0m\u001b[0mModeKeys\u001b[0m\u001b[0;34m.\u001b[0m\u001b[0mTRAIN\u001b[0m\u001b[0;34m,\u001b[0m\u001b[0;34m\u001b[0m\u001b[0;34m\u001b[0m\u001b[0m\n\u001b[1;32m    341\u001b[0m                 \u001b[0mtraining_context\u001b[0m\u001b[0;34m=\u001b[0m\u001b[0mtraining_context\u001b[0m\u001b[0;34m,\u001b[0m\u001b[0;34m\u001b[0m\u001b[0;34m\u001b[0m\u001b[0m\n\u001b[0;32m--> 342\u001b[0;31m                 total_epochs=epochs)\n\u001b[0m\u001b[1;32m    343\u001b[0m             \u001b[0mcbks\u001b[0m\u001b[0;34m.\u001b[0m\u001b[0mmake_logs\u001b[0m\u001b[0;34m(\u001b[0m\u001b[0mmodel\u001b[0m\u001b[0;34m,\u001b[0m \u001b[0mepoch_logs\u001b[0m\u001b[0;34m,\u001b[0m \u001b[0mtraining_result\u001b[0m\u001b[0;34m,\u001b[0m \u001b[0mModeKeys\u001b[0m\u001b[0;34m.\u001b[0m\u001b[0mTRAIN\u001b[0m\u001b[0;34m)\u001b[0m\u001b[0;34m\u001b[0m\u001b[0;34m\u001b[0m\u001b[0m\n\u001b[1;32m    344\u001b[0m \u001b[0;34m\u001b[0m\u001b[0m\n",
      "\u001b[0;32m~/opt/anaconda3/lib/python3.7/site-packages/tensorflow_core/python/keras/engine/training_v2.py\u001b[0m in \u001b[0;36mrun_one_epoch\u001b[0;34m(model, iterator, execution_function, dataset_size, batch_size, strategy, steps_per_epoch, num_samples, mode, training_context, total_epochs)\u001b[0m\n\u001b[1;32m    126\u001b[0m         step=step, mode=mode, size=current_batch_size) as batch_logs:\n\u001b[1;32m    127\u001b[0m       \u001b[0;32mtry\u001b[0m\u001b[0;34m:\u001b[0m\u001b[0;34m\u001b[0m\u001b[0;34m\u001b[0m\u001b[0m\n\u001b[0;32m--> 128\u001b[0;31m         \u001b[0mbatch_outs\u001b[0m \u001b[0;34m=\u001b[0m \u001b[0mexecution_function\u001b[0m\u001b[0;34m(\u001b[0m\u001b[0miterator\u001b[0m\u001b[0;34m)\u001b[0m\u001b[0;34m\u001b[0m\u001b[0;34m\u001b[0m\u001b[0m\n\u001b[0m\u001b[1;32m    129\u001b[0m       \u001b[0;32mexcept\u001b[0m \u001b[0;34m(\u001b[0m\u001b[0mStopIteration\u001b[0m\u001b[0;34m,\u001b[0m \u001b[0merrors\u001b[0m\u001b[0;34m.\u001b[0m\u001b[0mOutOfRangeError\u001b[0m\u001b[0;34m)\u001b[0m\u001b[0;34m:\u001b[0m\u001b[0;34m\u001b[0m\u001b[0;34m\u001b[0m\u001b[0m\n\u001b[1;32m    130\u001b[0m         \u001b[0;31m# TODO(kaftan): File bug about tf function and errors.OutOfRangeError?\u001b[0m\u001b[0;34m\u001b[0m\u001b[0;34m\u001b[0m\u001b[0;34m\u001b[0m\u001b[0m\n",
      "\u001b[0;32m~/opt/anaconda3/lib/python3.7/site-packages/tensorflow_core/python/keras/engine/training_v2_utils.py\u001b[0m in \u001b[0;36mexecution_function\u001b[0;34m(input_fn)\u001b[0m\n\u001b[1;32m     96\u001b[0m     \u001b[0;31m# `numpy` translates Tensors to values in Eager mode.\u001b[0m\u001b[0;34m\u001b[0m\u001b[0;34m\u001b[0m\u001b[0;34m\u001b[0m\u001b[0m\n\u001b[1;32m     97\u001b[0m     return nest.map_structure(_non_none_constant_value,\n\u001b[0;32m---> 98\u001b[0;31m                               distributed_function(input_fn))\n\u001b[0m\u001b[1;32m     99\u001b[0m \u001b[0;34m\u001b[0m\u001b[0m\n\u001b[1;32m    100\u001b[0m   \u001b[0;32mreturn\u001b[0m \u001b[0mexecution_function\u001b[0m\u001b[0;34m\u001b[0m\u001b[0;34m\u001b[0m\u001b[0m\n",
      "\u001b[0;32m~/opt/anaconda3/lib/python3.7/site-packages/tensorflow_core/python/eager/def_function.py\u001b[0m in \u001b[0;36m__call__\u001b[0;34m(self, *args, **kwds)\u001b[0m\n\u001b[1;32m    566\u001b[0m         \u001b[0mxla_context\u001b[0m\u001b[0;34m.\u001b[0m\u001b[0mExit\u001b[0m\u001b[0;34m(\u001b[0m\u001b[0;34m)\u001b[0m\u001b[0;34m\u001b[0m\u001b[0;34m\u001b[0m\u001b[0m\n\u001b[1;32m    567\u001b[0m     \u001b[0;32melse\u001b[0m\u001b[0;34m:\u001b[0m\u001b[0;34m\u001b[0m\u001b[0;34m\u001b[0m\u001b[0m\n\u001b[0;32m--> 568\u001b[0;31m       \u001b[0mresult\u001b[0m \u001b[0;34m=\u001b[0m \u001b[0mself\u001b[0m\u001b[0;34m.\u001b[0m\u001b[0m_call\u001b[0m\u001b[0;34m(\u001b[0m\u001b[0;34m*\u001b[0m\u001b[0margs\u001b[0m\u001b[0;34m,\u001b[0m \u001b[0;34m**\u001b[0m\u001b[0mkwds\u001b[0m\u001b[0;34m)\u001b[0m\u001b[0;34m\u001b[0m\u001b[0;34m\u001b[0m\u001b[0m\n\u001b[0m\u001b[1;32m    569\u001b[0m \u001b[0;34m\u001b[0m\u001b[0m\n\u001b[1;32m    570\u001b[0m     \u001b[0;32mif\u001b[0m \u001b[0mtracing_count\u001b[0m \u001b[0;34m==\u001b[0m \u001b[0mself\u001b[0m\u001b[0;34m.\u001b[0m\u001b[0m_get_tracing_count\u001b[0m\u001b[0;34m(\u001b[0m\u001b[0;34m)\u001b[0m\u001b[0;34m:\u001b[0m\u001b[0;34m\u001b[0m\u001b[0;34m\u001b[0m\u001b[0m\n",
      "\u001b[0;32m~/opt/anaconda3/lib/python3.7/site-packages/tensorflow_core/python/eager/def_function.py\u001b[0m in \u001b[0;36m_call\u001b[0;34m(self, *args, **kwds)\u001b[0m\n\u001b[1;32m    597\u001b[0m       \u001b[0;31m# In this case we have created variables on the first call, so we run the\u001b[0m\u001b[0;34m\u001b[0m\u001b[0;34m\u001b[0m\u001b[0;34m\u001b[0m\u001b[0m\n\u001b[1;32m    598\u001b[0m       \u001b[0;31m# defunned version which is guaranteed to never create variables.\u001b[0m\u001b[0;34m\u001b[0m\u001b[0;34m\u001b[0m\u001b[0;34m\u001b[0m\u001b[0m\n\u001b[0;32m--> 599\u001b[0;31m       \u001b[0;32mreturn\u001b[0m \u001b[0mself\u001b[0m\u001b[0;34m.\u001b[0m\u001b[0m_stateless_fn\u001b[0m\u001b[0;34m(\u001b[0m\u001b[0;34m*\u001b[0m\u001b[0margs\u001b[0m\u001b[0;34m,\u001b[0m \u001b[0;34m**\u001b[0m\u001b[0mkwds\u001b[0m\u001b[0;34m)\u001b[0m  \u001b[0;31m# pylint: disable=not-callable\u001b[0m\u001b[0;34m\u001b[0m\u001b[0;34m\u001b[0m\u001b[0m\n\u001b[0m\u001b[1;32m    600\u001b[0m     \u001b[0;32melif\u001b[0m \u001b[0mself\u001b[0m\u001b[0;34m.\u001b[0m\u001b[0m_stateful_fn\u001b[0m \u001b[0;32mis\u001b[0m \u001b[0;32mnot\u001b[0m \u001b[0;32mNone\u001b[0m\u001b[0;34m:\u001b[0m\u001b[0;34m\u001b[0m\u001b[0;34m\u001b[0m\u001b[0m\n\u001b[1;32m    601\u001b[0m       \u001b[0;31m# Release the lock early so that multiple threads can perform the call\u001b[0m\u001b[0;34m\u001b[0m\u001b[0;34m\u001b[0m\u001b[0;34m\u001b[0m\u001b[0m\n",
      "\u001b[0;32m~/opt/anaconda3/lib/python3.7/site-packages/tensorflow_core/python/eager/function.py\u001b[0m in \u001b[0;36m__call__\u001b[0;34m(self, *args, **kwargs)\u001b[0m\n\u001b[1;32m   2361\u001b[0m     \u001b[0;32mwith\u001b[0m \u001b[0mself\u001b[0m\u001b[0;34m.\u001b[0m\u001b[0m_lock\u001b[0m\u001b[0;34m:\u001b[0m\u001b[0;34m\u001b[0m\u001b[0;34m\u001b[0m\u001b[0m\n\u001b[1;32m   2362\u001b[0m       \u001b[0mgraph_function\u001b[0m\u001b[0;34m,\u001b[0m \u001b[0margs\u001b[0m\u001b[0;34m,\u001b[0m \u001b[0mkwargs\u001b[0m \u001b[0;34m=\u001b[0m \u001b[0mself\u001b[0m\u001b[0;34m.\u001b[0m\u001b[0m_maybe_define_function\u001b[0m\u001b[0;34m(\u001b[0m\u001b[0margs\u001b[0m\u001b[0;34m,\u001b[0m \u001b[0mkwargs\u001b[0m\u001b[0;34m)\u001b[0m\u001b[0;34m\u001b[0m\u001b[0;34m\u001b[0m\u001b[0m\n\u001b[0;32m-> 2363\u001b[0;31m     \u001b[0;32mreturn\u001b[0m \u001b[0mgraph_function\u001b[0m\u001b[0;34m.\u001b[0m\u001b[0m_filtered_call\u001b[0m\u001b[0;34m(\u001b[0m\u001b[0margs\u001b[0m\u001b[0;34m,\u001b[0m \u001b[0mkwargs\u001b[0m\u001b[0;34m)\u001b[0m  \u001b[0;31m# pylint: disable=protected-access\u001b[0m\u001b[0;34m\u001b[0m\u001b[0;34m\u001b[0m\u001b[0m\n\u001b[0m\u001b[1;32m   2364\u001b[0m \u001b[0;34m\u001b[0m\u001b[0m\n\u001b[1;32m   2365\u001b[0m   \u001b[0;34m@\u001b[0m\u001b[0mproperty\u001b[0m\u001b[0;34m\u001b[0m\u001b[0;34m\u001b[0m\u001b[0m\n",
      "\u001b[0;32m~/opt/anaconda3/lib/python3.7/site-packages/tensorflow_core/python/eager/function.py\u001b[0m in \u001b[0;36m_filtered_call\u001b[0;34m(self, args, kwargs)\u001b[0m\n\u001b[1;32m   1609\u001b[0m          if isinstance(t, (ops.Tensor,\n\u001b[1;32m   1610\u001b[0m                            resource_variable_ops.BaseResourceVariable))),\n\u001b[0;32m-> 1611\u001b[0;31m         self.captured_inputs)\n\u001b[0m\u001b[1;32m   1612\u001b[0m \u001b[0;34m\u001b[0m\u001b[0m\n\u001b[1;32m   1613\u001b[0m   \u001b[0;32mdef\u001b[0m \u001b[0m_call_flat\u001b[0m\u001b[0;34m(\u001b[0m\u001b[0mself\u001b[0m\u001b[0;34m,\u001b[0m \u001b[0margs\u001b[0m\u001b[0;34m,\u001b[0m \u001b[0mcaptured_inputs\u001b[0m\u001b[0;34m,\u001b[0m \u001b[0mcancellation_manager\u001b[0m\u001b[0;34m=\u001b[0m\u001b[0;32mNone\u001b[0m\u001b[0;34m)\u001b[0m\u001b[0;34m:\u001b[0m\u001b[0;34m\u001b[0m\u001b[0;34m\u001b[0m\u001b[0m\n",
      "\u001b[0;32m~/opt/anaconda3/lib/python3.7/site-packages/tensorflow_core/python/eager/function.py\u001b[0m in \u001b[0;36m_call_flat\u001b[0;34m(self, args, captured_inputs, cancellation_manager)\u001b[0m\n\u001b[1;32m   1690\u001b[0m       \u001b[0;31m# No tape is watching; skip to running the function.\u001b[0m\u001b[0;34m\u001b[0m\u001b[0;34m\u001b[0m\u001b[0;34m\u001b[0m\u001b[0m\n\u001b[1;32m   1691\u001b[0m       return self._build_call_outputs(self._inference_function.call(\n\u001b[0;32m-> 1692\u001b[0;31m           ctx, args, cancellation_manager=cancellation_manager))\n\u001b[0m\u001b[1;32m   1693\u001b[0m     forward_backward = self._select_forward_and_backward_functions(\n\u001b[1;32m   1694\u001b[0m         \u001b[0margs\u001b[0m\u001b[0;34m,\u001b[0m\u001b[0;34m\u001b[0m\u001b[0;34m\u001b[0m\u001b[0m\n",
      "\u001b[0;32m~/opt/anaconda3/lib/python3.7/site-packages/tensorflow_core/python/eager/function.py\u001b[0m in \u001b[0;36mcall\u001b[0;34m(self, ctx, args, cancellation_manager)\u001b[0m\n\u001b[1;32m    543\u001b[0m               \u001b[0minputs\u001b[0m\u001b[0;34m=\u001b[0m\u001b[0margs\u001b[0m\u001b[0;34m,\u001b[0m\u001b[0;34m\u001b[0m\u001b[0;34m\u001b[0m\u001b[0m\n\u001b[1;32m    544\u001b[0m               \u001b[0mattrs\u001b[0m\u001b[0;34m=\u001b[0m\u001b[0;34m(\u001b[0m\u001b[0;34m\"executor_type\"\u001b[0m\u001b[0;34m,\u001b[0m \u001b[0mexecutor_type\u001b[0m\u001b[0;34m,\u001b[0m \u001b[0;34m\"config_proto\"\u001b[0m\u001b[0;34m,\u001b[0m \u001b[0mconfig\u001b[0m\u001b[0;34m)\u001b[0m\u001b[0;34m,\u001b[0m\u001b[0;34m\u001b[0m\u001b[0;34m\u001b[0m\u001b[0m\n\u001b[0;32m--> 545\u001b[0;31m               ctx=ctx)\n\u001b[0m\u001b[1;32m    546\u001b[0m         \u001b[0;32melse\u001b[0m\u001b[0;34m:\u001b[0m\u001b[0;34m\u001b[0m\u001b[0;34m\u001b[0m\u001b[0m\n\u001b[1;32m    547\u001b[0m           outputs = execute.execute_with_cancellation(\n",
      "\u001b[0;32m~/opt/anaconda3/lib/python3.7/site-packages/tensorflow_core/python/eager/execute.py\u001b[0m in \u001b[0;36mquick_execute\u001b[0;34m(op_name, num_outputs, inputs, attrs, ctx, name)\u001b[0m\n\u001b[1;32m     59\u001b[0m     tensors = pywrap_tensorflow.TFE_Py_Execute(ctx._handle, device_name,\n\u001b[1;32m     60\u001b[0m                                                \u001b[0mop_name\u001b[0m\u001b[0;34m,\u001b[0m \u001b[0minputs\u001b[0m\u001b[0;34m,\u001b[0m \u001b[0mattrs\u001b[0m\u001b[0;34m,\u001b[0m\u001b[0;34m\u001b[0m\u001b[0;34m\u001b[0m\u001b[0m\n\u001b[0;32m---> 61\u001b[0;31m                                                num_outputs)\n\u001b[0m\u001b[1;32m     62\u001b[0m   \u001b[0;32mexcept\u001b[0m \u001b[0mcore\u001b[0m\u001b[0;34m.\u001b[0m\u001b[0m_NotOkStatusException\u001b[0m \u001b[0;32mas\u001b[0m \u001b[0me\u001b[0m\u001b[0;34m:\u001b[0m\u001b[0;34m\u001b[0m\u001b[0;34m\u001b[0m\u001b[0m\n\u001b[1;32m     63\u001b[0m     \u001b[0;32mif\u001b[0m \u001b[0mname\u001b[0m \u001b[0;32mis\u001b[0m \u001b[0;32mnot\u001b[0m \u001b[0;32mNone\u001b[0m\u001b[0;34m:\u001b[0m\u001b[0;34m\u001b[0m\u001b[0;34m\u001b[0m\u001b[0m\n",
      "\u001b[0;31mKeyboardInterrupt\u001b[0m: "
     ]
    }
   ],
   "source": [
    "model = Sequential()\n",
    "\n",
    "model.add(Input(shape=(160, 102, 1), name='model_input'))\n",
    "model.add(Conv2D(filters=8, kernel_size=3, strides=2, padding='same', activation='relu'))\n",
    "model.add(BatchNormalization())\n",
    "model.add(Conv2D(filters=16, kernel_size=3, strides=2, padding='same', activation='relu'))\n",
    "model.add(BatchNormalization())\n",
    "model.add(Flatten())\n",
    "model.add(Dense(160, activation='sigmoid'))\n",
    "\n",
    "\n",
    "\n",
    "# model.add(Bidirectional(LSTM(128, input_shape=(160, 102), return_sequences=True)))\n",
    "# model.add(Dropout(0.2))\n",
    "\n",
    "\n",
    "# model.add(Bidirectional(LSTM(32, return_sequences=True)))\n",
    "# model.add(Dropout(0.2))\n",
    "# model.add(Bidirectional(LSTM(32, return_sequences=True)))\n",
    "# model.add(Dropout(0.2))\n",
    "# model.add(Bidirectional(LSTM(32, return_sequences=True)))\n",
    "# model.add(Dropout(0.2))\n",
    "# model.add(Bidirectional(LSTM(51, return_sequences=True)))\n",
    "# model.add(Activation('sigmoid'))\n",
    "\n",
    "# model.add(Flatten())\n",
    "# model.add(Dense(160, activation='sigmoid'))\n",
    "\n",
    "model.build(input_shape=(None, 160, 102))\n",
    "model.summary()\n",
    "\n",
    "model.compile(\n",
    "    loss='binary_crossentropy',\n",
    "    optimizer=Adam(learning_rate=0.001),\n",
    "    metrics=['binary_crossentropy', 'accuracy'])\n",
    "\n",
    "#y = np.reshape(y, [27481, 160*102])\n",
    "print(y.shape)\n",
    "#y = np.reshape(y, [27481, 160, 1])\n",
    "model.fit(x, y,\n",
    "          batch_size=1,\n",
    "          epochs=50, \n",
    "          validation_split=0.1)\n",
    "model.save(\"sentiment_model_big_y_with_sigmoid_50_epochs.h5\")"
   ]
  },
  {
   "cell_type": "code",
   "execution_count": 44,
   "metadata": {},
   "outputs": [],
   "source": [
    "#model.save(\"sentiment_model_2_epochs.h5\")\n",
    "model.save(\"sentiment_model_small_y_50_epochs.h5\")"
   ]
  },
  {
   "cell_type": "code",
   "execution_count": 166,
   "metadata": {},
   "outputs": [
    {
     "name": "stdout",
     "output_type": "stream",
     "text": [
      "73\n",
      "(3534, 160, 102)\n"
     ]
    }
   ],
   "source": [
    "# Get the data into a pandas dataframe\n",
    "test_file_path = \"/Users/yigitatay/Desktop/SentNLP/data/test.csv\"\n",
    "df = pd.read_csv(test_file_path)\n",
    "# separate labels and data\n",
    "texts = df[\"text\"]\n",
    "sentiments = df[\"sentiment\"]\n",
    "# a list to hold text, sentiment dictionaries\n",
    "test_list = []\n",
    "\n",
    "for text, data in zip(texts, sentiments):\n",
    "    dict_to_add = dict()\n",
    "    dict_to_add[text] = data\n",
    "    test_list.append(dict_to_add)\n",
    "    \n",
    "# get strings with all text, positive, neutral and negative test\n",
    "# for non-deep-learning analysis\n",
    "all_text = \"\"\n",
    "positive_text = \"\"\n",
    "negative_text = \"\"\n",
    "neutral_text = \"\"\n",
    "for item in test_list:\n",
    "    for key in item:\n",
    "        all_text += (\" \" + str(key))\n",
    "        if(item[key] == \"positive\"):\n",
    "            positive_text += (\" \" + str(key))\n",
    "        elif(item[key] == \"negative\"):\n",
    "            negative_text += (\" \" + str(key))\n",
    "        else:\n",
    "            neutral_text += (\" \" + str(key))\n",
    "            \n",
    "modified_test_list = []\n",
    "i = 0\n",
    "for tweet in test_list:\n",
    "    for key in tweet:\n",
    "        val = tweet[key]\n",
    "        num_spaces = seqlen - len(str(key))\n",
    "        addition = \"\"\n",
    "        for i in range(num_spaces):\n",
    "            addition += \" \"\n",
    "        new_key = addition + str(key)\n",
    "        dict_add = {}\n",
    "        dict_add[new_key] = val\n",
    "        modified_test_list.append(dict_add)\n",
    "# we add one extra dimension to the end\n",
    "print(char_indices['i'])\n",
    "x_test = np.zeros((len(modified_test_list), seqlen, len(chars)+1), dtype=np.float32)\n",
    "for j, tweet in enumerate(modified_test_list):\n",
    "    for key in tweet:\n",
    "        for t, char in enumerate(key):\n",
    "            try:\n",
    "                x_test[j, t, char_indices[char]] = 1\n",
    "            except:\n",
    "                continue\n",
    "            if tweet[key] == \"positive\":\n",
    "                x_test[i, t, len(chars)] = 2\n",
    "            elif tweet[key] == \"negative\":\n",
    "                x_test[i, t, len(chars)] = 1\n",
    "            else:\n",
    "                x_test[i, t, len(chars)] = 0\n",
    "print(x_test.shape)"
   ]
  },
  {
   "cell_type": "code",
   "execution_count": 24,
   "metadata": {},
   "outputs": [
    {
     "name": "stdout",
     "output_type": "stream",
     "text": [
      "(1, 160)\n",
      "[[1.4732123e-08 7.9621767e-09 1.8425641e-08 3.8488550e-09 9.8294075e-09\n",
      "  2.1445988e-08 9.4358619e-09 1.4148192e-08 1.8811814e-09 1.7070340e-08\n",
      "  1.6420739e-08 9.1883177e-09 7.6642079e-09 4.2274384e-09 3.8533430e-09\n",
      "  1.4433185e-08 9.3230144e-09 2.1185951e-08 9.2920001e-09 7.9632549e-09\n",
      "  1.8301545e-08 3.0111995e-08 9.9489844e-06 2.1975047e-04 2.9175042e-03\n",
      "  5.0318553e-03 6.3640155e-02 6.2087335e-02 1.7028089e-01 9.2650406e-02\n",
      "  7.9224652e-01 8.9297527e-01 9.3339097e-01 9.3311417e-01 9.7983974e-01\n",
      "  8.4829724e-01 4.8988199e-01 8.2814246e-01 7.7367580e-01 5.8356589e-01\n",
      "  6.7528450e-01 7.3535204e-01 6.2919730e-01 5.7524884e-01 5.9493023e-01\n",
      "  4.7282970e-01 5.5339354e-01 4.6021205e-01 3.3774406e-01 2.8125969e-01\n",
      "  6.7550969e-01 7.1228999e-01 5.4452294e-01 4.6292257e-01 2.1744452e-01\n",
      "  2.1123379e-01 1.3862301e-01 4.6564028e-02 1.7438577e-02 1.5830830e-02\n",
      "  4.1960400e-02 5.4077387e-02 6.3835241e-02 1.0427474e-01 7.1503490e-02\n",
      "  6.7876332e-02 3.0412534e-02 1.2042502e-02 3.3279501e-02 2.3784945e-02\n",
      "  6.7782849e-02 2.9483339e-02 1.0179367e-01 7.1453996e-02 5.0232925e-02\n",
      "  6.6194408e-02 3.5322536e-02 3.1926654e-02 3.5215300e-02 3.3387356e-02\n",
      "  6.8133265e-02 6.0475696e-02 2.9100218e-01 2.5753644e-01 2.1281999e-01\n",
      "  1.9849172e-01 2.0358576e-01 2.6227388e-01 1.4237000e-01 9.9384226e-02\n",
      "  5.0122384e-02 6.0295921e-02 1.0744841e-01 1.0987311e-01 1.5101978e-01\n",
      "  1.0697633e-01 3.8631577e-02 4.1251019e-02 4.2232212e-02 3.4321927e-02\n",
      "  3.4044761e-02 3.7595589e-02 5.2259933e-02 6.9538489e-02 4.3905579e-02\n",
      "  6.3905291e-02 8.1528679e-02 4.4368867e-02 6.2470600e-02 8.8589236e-02\n",
      "  1.6369018e-01 1.9836134e-01 1.6692820e-01 1.9675364e-01 2.1697854e-01\n",
      "  3.6795413e-01 5.1070589e-01 6.2060392e-01 5.5070925e-01 5.8593899e-01\n",
      "  4.0246567e-01 2.7806285e-01 3.2849690e-01 3.5525343e-01 3.1485546e-01\n",
      "  3.2687530e-01 2.1536489e-01 8.5237809e-02 1.8955132e-02 1.1824220e-02\n",
      "  1.7800620e-02 1.3800316e-02 1.3409607e-02 1.6474362e-02 1.5570500e-02\n",
      "  1.9155530e-02 1.7287623e-02 5.9744332e-02 6.3482136e-02 9.4956934e-02\n",
      "  5.0117575e-02 3.1430088e-02 3.1937398e-02 3.4773160e-02 1.8721633e-02\n",
      "  3.1023212e-02 2.0738600e-02 2.7691279e-02 2.0587921e-02 1.8049857e-02\n",
      "  9.7769676e-03 9.4154850e-03 9.7384220e-03 1.1474469e-02 2.4431596e-02\n",
      "  3.1039011e-02 3.3728115e-02 3.2595083e-02 3.3753384e-02 3.3221371e-02]]\n",
      "B\n"
     ]
    }
   ],
   "source": [
    "#print(x[94])\n",
    "#result = model.predict(x_test[29])\n",
    "result = model.predict(np.reshape(x[191], [1, 160, 102, 1]))\n",
    "print(result.shape)\n",
    "\n",
    "\n",
    "#result = np.reshape(result, [160, 102])\n",
    "print(result)\n",
    "result_str = \"\"\n",
    "for line in result:\n",
    "    #print(line)\n",
    "    min_val = max(line)\n",
    "    char_to_add = ''\n",
    "    for i, val in enumerate(line):\n",
    "        if val == min_val:\n",
    "            char_to_add = indices_char[i]\n",
    "    result_str = result_str + char_to_add\n",
    "print(result_str)"
   ]
  },
  {
   "cell_type": "code",
   "execution_count": 23,
   "metadata": {},
   "outputs": [
    {
     "name": "stdout",
     "output_type": "stream",
     "text": [
      "Went to sleep and there is a power cut in Noida  Power back up not working too\n",
      "at dads, watching some mtv and am going on sims2 in a minutee\n"
     ]
    }
   ],
   "source": [
    "result_str = \"\"\n",
    "i = 0\n",
    "for line in train_list:\n",
    "    for key in line:\n",
    "        if i == 29:\n",
    "            print(key)\n",
    "    i += 1\n",
    "\n",
    "# label_str = \"\"\n",
    "# for line in y[29]:\n",
    "#     char_to_add = ''\n",
    "#     for i, val in enumerate(line):\n",
    "#         if val == 1:\n",
    "#             char_to_add = indices_char[i]\n",
    "#     label_str = label_str + char_to_add\n",
    "# print(label_str)\n",
    "\n",
    "print(label_list[126])"
   ]
  },
  {
   "cell_type": "code",
   "execution_count": null,
   "metadata": {},
   "outputs": [],
   "source": []
  }
 ],
 "metadata": {
  "kernelspec": {
   "display_name": "Python 3",
   "language": "python",
   "name": "python3"
  },
  "language_info": {
   "codemirror_mode": {
    "name": "ipython",
    "version": 3
   },
   "file_extension": ".py",
   "mimetype": "text/x-python",
   "name": "python",
   "nbconvert_exporter": "python",
   "pygments_lexer": "ipython3",
   "version": "3.7.4"
  }
 },
 "nbformat": 4,
 "nbformat_minor": 2
}
